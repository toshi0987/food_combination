{
 "cells": [
  {
   "cell_type": "markdown",
   "id": "75550e04",
   "metadata": {},
   "source": [
    "## 2021.11.20作成\n",
    "\n",
    "### ToDo list\n",
    "・LINE（MEssagingAPI）のキー取得＆トークン保存\n",
    "\n",
    "・いまにゅの模写で動くか実験（アプリの名前は\"食べ合わせ検索\"）\n",
    "\n",
    "・その他YouTube参照\n",
    "\n",
    "・webhookイベントについて理解\n",
    "\n",
    "Messaging APIリンク：https://developers.line.biz/ja/services/messaging-api/\n",
    "\n",
    "Messaging APIリファレンス：\n",
    "https://developers.line.biz/ja/reference/messaging-api/\n",
    "\n",
    "・食べ合わせのデータをスクレイピング（BeautifulSoup利用）\n",
    "\n",
    "・食べ合わせのデータベース作成（SQLAlchemy）\n",
    "\n",
    "・後でリファレンス参照（参考文献URL）\n",
    "#### カラム（食材名（key）、食べ合わせの食材名）\n",
    "\n",
    "・探索部分\n",
    "\n",
    "### ビジネスアカウント作るかも\n",
    "\n",
    "\n",
    "\n",
    "### アジャイル要件\n",
    "・食べ合わせの悪い組み合わせだけでなく、良い組み合わせも\n",
    "\n",
    "・食べ合わせのレシピをレコメンド\n",
    "（リンク先を返す、楽天レシピAPI、クックパッドの検索結果）\n",
    "\n",
    "・textmessageじゃなくてflexmessage使うかも\n"
   ]
  },
  {
   "cell_type": "markdown",
   "id": "a5e9d056",
   "metadata": {},
   "source": [
    "### Bot basic ID\n",
    "@748qgsut"
   ]
  },
  {
   "cell_type": "code",
   "execution_count": 1,
   "id": "7969af49",
   "metadata": {},
   "outputs": [
    {
     "name": "stdout",
     "output_type": "stream",
     "text": [
      "Collecting line-bot-sdk\n",
      "  Downloading line_bot_sdk-2.0.1-py2.py3-none-any.whl (83 kB)\n",
      "Collecting future\n",
      "  Downloading future-0.18.2.tar.gz (829 kB)\n",
      "Collecting requests>=2.0\n",
      "  Using cached requests-2.26.0-py2.py3-none-any.whl (62 kB)\n",
      "Collecting aiohttp>=3.7.4\n",
      "  Downloading aiohttp-3.8.1-cp36-cp36m-win_amd64.whl (551 kB)\n",
      "Collecting async-timeout<5.0,>=4.0.0a3\n",
      "  Downloading async_timeout-4.0.1-py3-none-any.whl (5.7 kB)\n",
      "Requirement already satisfied: typing-extensions>=3.7.4 in c:\\users\\toshi\\.conda\\envs\\infonetwork2\\lib\\site-packages (from aiohttp>=3.7.4->line-bot-sdk) (3.10.0.2)\n",
      "Requirement already satisfied: attrs>=17.3.0 in c:\\users\\toshi\\.conda\\envs\\infonetwork2\\lib\\site-packages (from aiohttp>=3.7.4->line-bot-sdk) (21.2.0)\n",
      "Collecting frozenlist>=1.1.1\n",
      "  Downloading frozenlist-1.2.0-cp36-cp36m-win_amd64.whl (83 kB)\n",
      "Collecting multidict<7.0,>=4.5\n",
      "  Downloading multidict-5.2.0-cp36-cp36m-win_amd64.whl (45 kB)\n",
      "Collecting asynctest==0.13.0\n",
      "  Downloading asynctest-0.13.0-py3-none-any.whl (26 kB)\n",
      "Collecting idna-ssl>=1.0\n",
      "  Downloading idna-ssl-1.1.0.tar.gz (3.4 kB)\n",
      "Collecting charset-normalizer<3.0,>=2.0\n",
      "  Downloading charset_normalizer-2.0.7-py3-none-any.whl (38 kB)\n",
      "Collecting aiosignal>=1.1.2\n",
      "  Downloading aiosignal-1.2.0-py3-none-any.whl (8.2 kB)\n",
      "Collecting yarl<2.0,>=1.0\n",
      "  Downloading yarl-1.7.2-cp36-cp36m-win_amd64.whl (121 kB)\n",
      "Collecting idna>=2.0\n",
      "  Downloading idna-3.3-py3-none-any.whl (61 kB)\n",
      "Collecting urllib3<1.27,>=1.21.1\n",
      "  Downloading urllib3-1.26.7-py2.py3-none-any.whl (138 kB)\n",
      "Requirement already satisfied: certifi>=2017.4.17 in c:\\users\\toshi\\.conda\\envs\\infonetwork2\\lib\\site-packages (from requests>=2.0->line-bot-sdk) (2021.5.30)\n",
      "Building wheels for collected packages: idna-ssl, future\n",
      "  Building wheel for idna-ssl (setup.py): started\n",
      "  Building wheel for idna-ssl (setup.py): finished with status 'done'\n",
      "  Created wheel for idna-ssl: filename=idna_ssl-1.1.0-py3-none-any.whl size=3178 sha256=8f216ebe33d8c00b5b4f90a921611f3dddb72c5cbe005d1bf86168f3545db4c7\n",
      "  Stored in directory: c:\\users\\toshi\\appdata\\local\\pip\\cache\\wheels\\6a\\f5\\9c\\f8331a854f7a8739cf0e74c13854e4dd7b1af11b04fe1dde13\n",
      "  Building wheel for future (setup.py): started\n",
      "  Building wheel for future (setup.py): finished with status 'done'\n",
      "  Created wheel for future: filename=future-0.18.2-py3-none-any.whl size=491070 sha256=3dd921ac088cb91a87364798ecc78092af98f6a29c2ece0a6fdc2a60acf1f101\n",
      "  Stored in directory: c:\\users\\toshi\\appdata\\local\\pip\\cache\\wheels\\6e\\9c\\ed\\4499c9865ac1002697793e0ae05ba6be33553d098f3347fb94\n",
      "Successfully built idna-ssl future\n",
      "Installing collected packages: multidict, idna, frozenlist, yarl, urllib3, idna-ssl, charset-normalizer, asynctest, async-timeout, aiosignal, requests, future, aiohttp, line-bot-sdk\n",
      "Successfully installed aiohttp-3.8.1 aiosignal-1.2.0 async-timeout-4.0.1 asynctest-0.13.0 charset-normalizer-2.0.7 frozenlist-1.2.0 future-0.18.2 idna-3.3 idna-ssl-1.1.0 line-bot-sdk-2.0.1 multidict-5.2.0 requests-2.26.0 urllib3-1.26.7 yarl-1.7.2\n"
     ]
    }
   ],
   "source": [
    "!pip install line-bot-sdk"
   ]
  },
  {
   "cell_type": "code",
   "execution_count": 2,
   "id": "f66ad128",
   "metadata": {},
   "outputs": [],
   "source": [
    "import json"
   ]
  },
  {
   "cell_type": "code",
   "execution_count": 3,
   "id": "b47c9d42",
   "metadata": {},
   "outputs": [],
   "source": [
    "file=open('info.json','r')"
   ]
  },
  {
   "cell_type": "code",
   "execution_count": 4,
   "id": "a76a8660",
   "metadata": {},
   "outputs": [],
   "source": [
    "info=json.load(file)"
   ]
  },
  {
   "cell_type": "code",
   "execution_count": 5,
   "id": "3f1d7139",
   "metadata": {},
   "outputs": [
    {
     "name": "stdout",
     "output_type": "stream",
     "text": [
      "f3fyc4UBKCodzjNjwRQLnAL93baaMABwZhn93AR0QGdbjiWpOJn5DzfKj8JWBr/pX6HoVLErj1lfY1azK2FFtFevxUgWj9YzSd+o2OzEwrTonIiK6GEfWRBCFKY62RzOidsKv3IDnNe3/VcKI/ZOdgdB04t89/1O/w1cDnyilFU=\n"
     ]
    }
   ],
   "source": [
    "#print(info['CHANNEL_ACCESS_TOKEN'])"
   ]
  },
  {
   "cell_type": "code",
   "execution_count": 14,
   "id": "a06d8465",
   "metadata": {},
   "outputs": [],
   "source": [
    "from linebot import LineBotApi, WebhookHandler\n",
    "from linebot.models import TextSendMessage, MessageEvent, TextMessage"
   ]
  },
  {
   "cell_type": "code",
   "execution_count": 7,
   "id": "54c2658d",
   "metadata": {},
   "outputs": [],
   "source": [
    "CHANNEL_ACCESS_TOKEN=info['CHANNEL_ACCESS_TOKEN']\n",
    "CHANNEL_SECRET=info['CHANNEL_SECRET']\n",
    "line_bot_api=LineBotApi(CHANNEL_ACCESS_TOKEN)\n",
    "handler=WebhookHandler(CHANNEL_SECRET)"
   ]
  },
  {
   "cell_type": "code",
   "execution_count": 11,
   "id": "1e7f6c11",
   "metadata": {},
   "outputs": [],
   "source": [
    "def main():\n",
    "    USER_ID=info['USER_ID']\n",
    "    messages=TextSendMessage(text=\"HELLO WORLD\")\n",
    "    line_bot_api.push_message(USER_ID,messages=messages)\n",
    "    \n",
    "if __name__==\"__main__\":\n",
    "    main()"
   ]
  },
  {
   "cell_type": "code",
   "execution_count": null,
   "id": "a0bc3bb7",
   "metadata": {},
   "outputs": [],
   "source": []
  }
 ],
 "metadata": {
  "kernelspec": {
   "display_name": "infonetwork2",
   "language": "python",
   "name": "infonetwork2"
  },
  "language_info": {
   "codemirror_mode": {
    "name": "ipython",
    "version": 3
   },
   "file_extension": ".py",
   "mimetype": "text/x-python",
   "name": "python",
   "nbconvert_exporter": "python",
   "pygments_lexer": "ipython3",
   "version": "3.6.13"
  }
 },
 "nbformat": 4,
 "nbformat_minor": 5
}
