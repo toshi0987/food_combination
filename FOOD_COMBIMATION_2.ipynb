{
 "cells": [
  {
   "cell_type": "code",
   "execution_count": 2,
   "id": "ffbfcf29",
   "metadata": {},
   "outputs": [
    {
     "name": "stdout",
     "output_type": "stream",
     "text": [
      " * Serving Flask app '__main__' (lazy loading)\n",
      " * Environment: production\n",
      "\u001b[31m   WARNING: This is a development server. Do not use it in a production deployment.\u001b[0m\n",
      "\u001b[2m   Use a production WSGI server instead.\u001b[0m\n",
      " * Debug mode: off\n"
     ]
    },
    {
     "name": "stderr",
     "output_type": "stream",
     "text": [
      " * Running on http://127.0.0.1:5000/ (Press CTRL+C to quit)\n",
      "127.0.0.1 - - [24/Nov/2021 23:26:18] \"GET / HTTP/1.1\" 200 -\n",
      "127.0.0.1 - - [24/Nov/2021 23:26:19] \"GET /favicon.ico HTTP/1.1\" 404 -\n"
     ]
    }
   ],
   "source": [
    "from flask import Flask, request, abort\n",
    "\n",
    "from linebot import (\n",
    "    LineBotApi, WebhookHandler\n",
    ")\n",
    "from linebot.exceptions import (\n",
    "    InvalidSignatureError\n",
    ")\n",
    "from linebot.models import (\n",
    "    MessageEvent, TextMessage, TextSendMessage,\n",
    ")\n",
    "import os\n",
    "\n",
    "app = Flask(__name__)\n",
    "\n",
    "YOUR_CHANNEL_ACCESS_TOKEN=\"f3fyc4UBKCodzjNjwRQLnAL93baaMABwZhn93AR0QGdbjiWpOJn5DzfKj8JWBr/pX6HoVLErj1lfY1azK2FFtFevxUgWj9YzSd+o2OzEwrTonIiK6GEfWRBCFKY62RzOidsKv3IDnNe3/VcKI/ZOdgdB04t89/1O/w1cDnyilFU=\"\n",
    "YOUR_CHANNEL_SECRET=\"595fd3a35c45b776b49bb534ee654606\"\n",
    "\n",
    "line_bot_api = LineBotApi(YOUR_CHANNEL_ACCESS_TOKEN)\n",
    "handler = WebhookHandler(YOUR_CHANNEL_SECRET)\n",
    "\n",
    "@app.route(\"/\")\n",
    "def index():\n",
    "    return \"hello world\"\n",
    "\n",
    "@app.route(\"/callback\", methods=['POST'])\n",
    "def callback():\n",
    "    # get X-Line-Signature header value\n",
    "    signature = request.headers['X-Line-Signature']\n",
    "\n",
    "    # get request body as text\n",
    "    body = request.get_data(as_text=True)\n",
    "    app.logger.info(\"Request body: \" + body)\n",
    "\n",
    "    # handle webhook body\n",
    "    try:\n",
    "        handler.handle(body, signature)\n",
    "    except InvalidSignatureError:\n",
    "        print(\"Invalid signature. Please check your channel access token/channel secret.\")\n",
    "        abort(400)\n",
    "\n",
    "    return 'OK'\n",
    "\n",
    "\n",
    "@handler.add(MessageEvent, message=TextMessage)\n",
    "def handle_message(event):\n",
    "    line_bot_api.reply_message(\n",
    "        event.reply_token,\n",
    "        TextSendMessage(text=event.message.text))\n",
    "\n",
    "\n",
    "if __name__ == \"__main__\":\n",
    "    port=os.getenv(\"PORT\")\n",
    "    app.run(host=\"0.0.0.0\",port=port)\n",
    "\n",
    "\n"
   ]
  },
  {
   "cell_type": "code",
   "execution_count": 1,
   "id": "c0e348e6",
   "metadata": {},
   "outputs": [
    {
     "name": "stdout",
     "output_type": "stream",
     "text": [
      "Collecting flask-sqlalchemy\n",
      "  Using cached Flask_SQLAlchemy-2.5.1-py2.py3-none-any.whl (17 kB)\n",
      "Requirement already satisfied: Flask>=0.10 in c:\\users\\toshi\\.conda\\envs\\infonetwork2\\lib\\site-packages (from flask-sqlalchemy) (2.0.2)\n",
      "Collecting SQLAlchemy>=0.8.0\n",
      "  Downloading SQLAlchemy-1.4.27-cp36-cp36m-win_amd64.whl (1.5 MB)\n",
      "Requirement already satisfied: click>=7.1.2 in c:\\users\\toshi\\.conda\\envs\\infonetwork2\\lib\\site-packages (from Flask>=0.10->flask-sqlalchemy) (8.0.3)\n",
      "Requirement already satisfied: Jinja2>=3.0 in c:\\users\\toshi\\.conda\\envs\\infonetwork2\\lib\\site-packages (from Flask>=0.10->flask-sqlalchemy) (3.0.2)\n",
      "Requirement already satisfied: itsdangerous>=2.0 in c:\\users\\toshi\\.conda\\envs\\infonetwork2\\lib\\site-packages (from Flask>=0.10->flask-sqlalchemy) (2.0.1)\n",
      "Requirement already satisfied: Werkzeug>=2.0 in c:\\users\\toshi\\.conda\\envs\\infonetwork2\\lib\\site-packages (from Flask>=0.10->flask-sqlalchemy) (2.0.2)\n",
      "Requirement already satisfied: importlib-metadata in c:\\users\\toshi\\.conda\\envs\\infonetwork2\\lib\\site-packages (from click>=7.1.2->Flask>=0.10->flask-sqlalchemy) (4.8.1)\n",
      "Requirement already satisfied: colorama in c:\\users\\toshi\\.conda\\envs\\infonetwork2\\lib\\site-packages (from click>=7.1.2->Flask>=0.10->flask-sqlalchemy) (0.4.4)\n",
      "Requirement already satisfied: MarkupSafe>=2.0 in c:\\users\\toshi\\.conda\\envs\\infonetwork2\\lib\\site-packages (from Jinja2>=3.0->Flask>=0.10->flask-sqlalchemy) (2.0.1)\n",
      "Collecting greenlet!=0.4.17\n",
      "  Downloading greenlet-1.1.2-cp36-cp36m-win_amd64.whl (100 kB)\n",
      "Requirement already satisfied: dataclasses in c:\\users\\toshi\\.conda\\envs\\infonetwork2\\lib\\site-packages (from Werkzeug>=2.0->Flask>=0.10->flask-sqlalchemy) (0.8)\n",
      "Requirement already satisfied: typing-extensions>=3.6.4 in c:\\users\\toshi\\.conda\\envs\\infonetwork2\\lib\\site-packages (from importlib-metadata->click>=7.1.2->Flask>=0.10->flask-sqlalchemy) (3.10.0.2)\n",
      "Requirement already satisfied: zipp>=0.5 in c:\\users\\toshi\\.conda\\envs\\infonetwork2\\lib\\site-packages (from importlib-metadata->click>=7.1.2->Flask>=0.10->flask-sqlalchemy) (3.6.0)\n",
      "Installing collected packages: greenlet, SQLAlchemy, flask-sqlalchemy\n",
      "Successfully installed SQLAlchemy-1.4.27 flask-sqlalchemy-2.5.1 greenlet-1.1.2\n"
     ]
    }
   ],
   "source": [
    "!pip install flask-sqlalchemy"
   ]
  },
  {
   "cell_type": "code",
   "execution_count": 2,
   "id": "1ff00090",
   "metadata": {},
   "outputs": [
    {
     "name": "stdout",
     "output_type": "stream",
     "text": [
      "Collecting psycopg2\n",
      "  Downloading psycopg2-2.9.2-cp36-cp36m-win_amd64.whl (1.1 MB)\n",
      "Installing collected packages: psycopg2\n",
      "Successfully installed psycopg2-2.9.2\n"
     ]
    }
   ],
   "source": [
    "!pip install psycopg2"
   ]
  },
  {
   "cell_type": "code",
   "execution_count": 3,
   "id": "ca7c898e",
   "metadata": {},
   "outputs": [],
   "source": [
    "!pip freeze > requirements.txt"
   ]
  },
  {
   "cell_type": "code",
   "execution_count": null,
   "id": "9c175460",
   "metadata": {},
   "outputs": [],
   "source": []
  }
 ],
 "metadata": {
  "kernelspec": {
   "display_name": "infonetwork2",
   "language": "python",
   "name": "infonetwork2"
  },
  "language_info": {
   "codemirror_mode": {
    "name": "ipython",
    "version": 3
   },
   "file_extension": ".py",
   "mimetype": "text/x-python",
   "name": "python",
   "nbconvert_exporter": "python",
   "pygments_lexer": "ipython3",
   "version": "3.6.13"
  }
 },
 "nbformat": 4,
 "nbformat_minor": 5
}
